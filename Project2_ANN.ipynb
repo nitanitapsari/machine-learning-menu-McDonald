{
 "cells": [
  {
   "cell_type": "code",
   "execution_count": null,
   "metadata": {
    "collapsed": true,
    "id": "L8Ldr7XWlD8E"
   },
   "outputs": [],
   "source": [
    "import pandas as pd\n",
    "import numpy as np \n",
    "import matplotlib.pyplot as plt\n",
    "import sklearn\n",
    "from sklearn.neural_network import MLPClassifier\n",
    "from sklearn.neural_network import MLPRegressor\n",
    "\n",
    "# Import necessary modules\n",
    "from sklearn.model_selection import train_test_split\n",
    "from sklearn.metrics import mean_squared_error\n",
    "from math import sqrt\n",
    "from sklearn.metrics import r2_score"
   ]
  },
  {
   "cell_type": "code",
   "execution_count": null,
   "metadata": {
    "collapsed": true,
    "id": "q77kG1JslQ5C"
   },
   "outputs": [],
   "source": [
    "df = pd.read_csv('menu.csv')"
   ]
  },
  {
   "cell_type": "code",
   "execution_count": null,
   "metadata": {
    "colab": {
     "base_uri": "https://localhost:8080/",
     "height": 447
    },
    "id": "FyCDKskpmVoR",
    "outputId": "255bc09a-e705-4a6d-e154-ab2b49afb677"
   },
   "outputs": [
    {
     "data": {
      "text/html": [
       "<div>\n",
       "<style scoped>\n",
       "    .dataframe tbody tr th:only-of-type {\n",
       "        vertical-align: middle;\n",
       "    }\n",
       "\n",
       "    .dataframe tbody tr th {\n",
       "        vertical-align: top;\n",
       "    }\n",
       "\n",
       "    .dataframe thead th {\n",
       "        text-align: right;\n",
       "    }\n",
       "</style>\n",
       "<table border=\"1\" class=\"dataframe\">\n",
       "  <thead>\n",
       "    <tr style=\"text-align: right;\">\n",
       "      <th></th>\n",
       "      <th>Category</th>\n",
       "      <th>Item</th>\n",
       "      <th>Serving Size</th>\n",
       "      <th>Calories</th>\n",
       "      <th>Calories from Fat</th>\n",
       "      <th>Total Fat</th>\n",
       "      <th>Total Fat (% Daily Value)</th>\n",
       "      <th>Saturated Fat</th>\n",
       "      <th>Saturated Fat (% Daily Value)</th>\n",
       "      <th>Trans Fat</th>\n",
       "      <th>Cholesterol</th>\n",
       "      <th>Cholesterol (% Daily Value)</th>\n",
       "      <th>Sodium</th>\n",
       "      <th>Sodium (% Daily Value)</th>\n",
       "      <th>Carbohydrates</th>\n",
       "      <th>Carbohydrates (% Daily Value)</th>\n",
       "      <th>Dietary Fiber</th>\n",
       "      <th>Dietary Fiber (% Daily Value)</th>\n",
       "      <th>Sugars</th>\n",
       "      <th>Protein</th>\n",
       "      <th>Vitamin A (% Daily Value)</th>\n",
       "      <th>Vitamin C (% Daily Value)</th>\n",
       "      <th>Calcium (% Daily Value)</th>\n",
       "      <th>Iron (% Daily Value)</th>\n",
       "    </tr>\n",
       "  </thead>\n",
       "  <tbody>\n",
       "    <tr>\n",
       "      <th>0</th>\n",
       "      <td>Breakfast</td>\n",
       "      <td>Egg McMuffin</td>\n",
       "      <td>4.8 oz (136 g)</td>\n",
       "      <td>300</td>\n",
       "      <td>120</td>\n",
       "      <td>13.0</td>\n",
       "      <td>20</td>\n",
       "      <td>5.0</td>\n",
       "      <td>25</td>\n",
       "      <td>0.0</td>\n",
       "      <td>260</td>\n",
       "      <td>87</td>\n",
       "      <td>750</td>\n",
       "      <td>31</td>\n",
       "      <td>31</td>\n",
       "      <td>10</td>\n",
       "      <td>4</td>\n",
       "      <td>17</td>\n",
       "      <td>3</td>\n",
       "      <td>17</td>\n",
       "      <td>10</td>\n",
       "      <td>0</td>\n",
       "      <td>25</td>\n",
       "      <td>15</td>\n",
       "    </tr>\n",
       "    <tr>\n",
       "      <th>1</th>\n",
       "      <td>Breakfast</td>\n",
       "      <td>Egg White Delight</td>\n",
       "      <td>4.8 oz (135 g)</td>\n",
       "      <td>250</td>\n",
       "      <td>70</td>\n",
       "      <td>8.0</td>\n",
       "      <td>12</td>\n",
       "      <td>3.0</td>\n",
       "      <td>15</td>\n",
       "      <td>0.0</td>\n",
       "      <td>25</td>\n",
       "      <td>8</td>\n",
       "      <td>770</td>\n",
       "      <td>32</td>\n",
       "      <td>30</td>\n",
       "      <td>10</td>\n",
       "      <td>4</td>\n",
       "      <td>17</td>\n",
       "      <td>3</td>\n",
       "      <td>18</td>\n",
       "      <td>6</td>\n",
       "      <td>0</td>\n",
       "      <td>25</td>\n",
       "      <td>8</td>\n",
       "    </tr>\n",
       "    <tr>\n",
       "      <th>2</th>\n",
       "      <td>Breakfast</td>\n",
       "      <td>Sausage McMuffin</td>\n",
       "      <td>3.9 oz (111 g)</td>\n",
       "      <td>370</td>\n",
       "      <td>200</td>\n",
       "      <td>23.0</td>\n",
       "      <td>35</td>\n",
       "      <td>8.0</td>\n",
       "      <td>42</td>\n",
       "      <td>0.0</td>\n",
       "      <td>45</td>\n",
       "      <td>15</td>\n",
       "      <td>780</td>\n",
       "      <td>33</td>\n",
       "      <td>29</td>\n",
       "      <td>10</td>\n",
       "      <td>4</td>\n",
       "      <td>17</td>\n",
       "      <td>2</td>\n",
       "      <td>14</td>\n",
       "      <td>8</td>\n",
       "      <td>0</td>\n",
       "      <td>25</td>\n",
       "      <td>10</td>\n",
       "    </tr>\n",
       "    <tr>\n",
       "      <th>3</th>\n",
       "      <td>Breakfast</td>\n",
       "      <td>Sausage McMuffin with Egg</td>\n",
       "      <td>5.7 oz (161 g)</td>\n",
       "      <td>450</td>\n",
       "      <td>250</td>\n",
       "      <td>28.0</td>\n",
       "      <td>43</td>\n",
       "      <td>10.0</td>\n",
       "      <td>52</td>\n",
       "      <td>0.0</td>\n",
       "      <td>285</td>\n",
       "      <td>95</td>\n",
       "      <td>860</td>\n",
       "      <td>36</td>\n",
       "      <td>30</td>\n",
       "      <td>10</td>\n",
       "      <td>4</td>\n",
       "      <td>17</td>\n",
       "      <td>2</td>\n",
       "      <td>21</td>\n",
       "      <td>15</td>\n",
       "      <td>0</td>\n",
       "      <td>30</td>\n",
       "      <td>15</td>\n",
       "    </tr>\n",
       "    <tr>\n",
       "      <th>4</th>\n",
       "      <td>Breakfast</td>\n",
       "      <td>Sausage McMuffin with Egg Whites</td>\n",
       "      <td>5.7 oz (161 g)</td>\n",
       "      <td>400</td>\n",
       "      <td>210</td>\n",
       "      <td>23.0</td>\n",
       "      <td>35</td>\n",
       "      <td>8.0</td>\n",
       "      <td>42</td>\n",
       "      <td>0.0</td>\n",
       "      <td>50</td>\n",
       "      <td>16</td>\n",
       "      <td>880</td>\n",
       "      <td>37</td>\n",
       "      <td>30</td>\n",
       "      <td>10</td>\n",
       "      <td>4</td>\n",
       "      <td>17</td>\n",
       "      <td>2</td>\n",
       "      <td>21</td>\n",
       "      <td>6</td>\n",
       "      <td>0</td>\n",
       "      <td>25</td>\n",
       "      <td>10</td>\n",
       "    </tr>\n",
       "  </tbody>\n",
       "</table>\n",
       "</div>"
      ],
      "text/plain": [
       "    Category  ... Iron (% Daily Value)\n",
       "0  Breakfast  ...                   15\n",
       "1  Breakfast  ...                    8\n",
       "2  Breakfast  ...                   10\n",
       "3  Breakfast  ...                   15\n",
       "4  Breakfast  ...                   10\n",
       "\n",
       "[5 rows x 24 columns]"
      ]
     },
     "execution_count": 21,
     "metadata": {
      "tags": []
     },
     "output_type": "execute_result"
    }
   ],
   "source": [
    "df.head()"
   ]
  },
  {
   "cell_type": "code",
   "execution_count": null,
   "metadata": {
    "colab": {
     "base_uri": "https://localhost:8080/",
     "height": 693
    },
    "id": "E19Sq5QambXh",
    "outputId": "4ee4497b-ccb9-4269-a371-776fd0e83da3"
   },
   "outputs": [
    {
     "data": {
      "text/html": [
       "<div>\n",
       "<style scoped>\n",
       "    .dataframe tbody tr th:only-of-type {\n",
       "        vertical-align: middle;\n",
       "    }\n",
       "\n",
       "    .dataframe tbody tr th {\n",
       "        vertical-align: top;\n",
       "    }\n",
       "\n",
       "    .dataframe thead th {\n",
       "        text-align: right;\n",
       "    }\n",
       "</style>\n",
       "<table border=\"1\" class=\"dataframe\">\n",
       "  <thead>\n",
       "    <tr style=\"text-align: right;\">\n",
       "      <th></th>\n",
       "      <th>count</th>\n",
       "      <th>mean</th>\n",
       "      <th>std</th>\n",
       "      <th>min</th>\n",
       "      <th>25%</th>\n",
       "      <th>50%</th>\n",
       "      <th>75%</th>\n",
       "      <th>max</th>\n",
       "    </tr>\n",
       "  </thead>\n",
       "  <tbody>\n",
       "    <tr>\n",
       "      <th>Calories</th>\n",
       "      <td>260.0</td>\n",
       "      <td>368.269231</td>\n",
       "      <td>240.269886</td>\n",
       "      <td>0.0</td>\n",
       "      <td>210.000</td>\n",
       "      <td>340.0</td>\n",
       "      <td>500.00</td>\n",
       "      <td>1880.0</td>\n",
       "    </tr>\n",
       "    <tr>\n",
       "      <th>Calories from Fat</th>\n",
       "      <td>260.0</td>\n",
       "      <td>127.096154</td>\n",
       "      <td>127.875914</td>\n",
       "      <td>0.0</td>\n",
       "      <td>20.000</td>\n",
       "      <td>100.0</td>\n",
       "      <td>200.00</td>\n",
       "      <td>1060.0</td>\n",
       "    </tr>\n",
       "    <tr>\n",
       "      <th>Total Fat</th>\n",
       "      <td>260.0</td>\n",
       "      <td>14.165385</td>\n",
       "      <td>14.205998</td>\n",
       "      <td>0.0</td>\n",
       "      <td>2.375</td>\n",
       "      <td>11.0</td>\n",
       "      <td>22.25</td>\n",
       "      <td>118.0</td>\n",
       "    </tr>\n",
       "    <tr>\n",
       "      <th>Total Fat (% Daily Value)</th>\n",
       "      <td>260.0</td>\n",
       "      <td>21.815385</td>\n",
       "      <td>21.885199</td>\n",
       "      <td>0.0</td>\n",
       "      <td>3.750</td>\n",
       "      <td>17.0</td>\n",
       "      <td>35.00</td>\n",
       "      <td>182.0</td>\n",
       "    </tr>\n",
       "    <tr>\n",
       "      <th>Saturated Fat</th>\n",
       "      <td>260.0</td>\n",
       "      <td>6.007692</td>\n",
       "      <td>5.321873</td>\n",
       "      <td>0.0</td>\n",
       "      <td>1.000</td>\n",
       "      <td>5.0</td>\n",
       "      <td>10.00</td>\n",
       "      <td>20.0</td>\n",
       "    </tr>\n",
       "    <tr>\n",
       "      <th>Saturated Fat (% Daily Value)</th>\n",
       "      <td>260.0</td>\n",
       "      <td>29.965385</td>\n",
       "      <td>26.639209</td>\n",
       "      <td>0.0</td>\n",
       "      <td>4.750</td>\n",
       "      <td>24.0</td>\n",
       "      <td>48.00</td>\n",
       "      <td>102.0</td>\n",
       "    </tr>\n",
       "    <tr>\n",
       "      <th>Trans Fat</th>\n",
       "      <td>260.0</td>\n",
       "      <td>0.203846</td>\n",
       "      <td>0.429133</td>\n",
       "      <td>0.0</td>\n",
       "      <td>0.000</td>\n",
       "      <td>0.0</td>\n",
       "      <td>0.00</td>\n",
       "      <td>2.5</td>\n",
       "    </tr>\n",
       "    <tr>\n",
       "      <th>Cholesterol</th>\n",
       "      <td>260.0</td>\n",
       "      <td>54.942308</td>\n",
       "      <td>87.269257</td>\n",
       "      <td>0.0</td>\n",
       "      <td>5.000</td>\n",
       "      <td>35.0</td>\n",
       "      <td>65.00</td>\n",
       "      <td>575.0</td>\n",
       "    </tr>\n",
       "    <tr>\n",
       "      <th>Cholesterol (% Daily Value)</th>\n",
       "      <td>260.0</td>\n",
       "      <td>18.392308</td>\n",
       "      <td>29.091653</td>\n",
       "      <td>0.0</td>\n",
       "      <td>2.000</td>\n",
       "      <td>11.0</td>\n",
       "      <td>21.25</td>\n",
       "      <td>192.0</td>\n",
       "    </tr>\n",
       "    <tr>\n",
       "      <th>Sodium</th>\n",
       "      <td>260.0</td>\n",
       "      <td>495.750000</td>\n",
       "      <td>577.026323</td>\n",
       "      <td>0.0</td>\n",
       "      <td>107.500</td>\n",
       "      <td>190.0</td>\n",
       "      <td>865.00</td>\n",
       "      <td>3600.0</td>\n",
       "    </tr>\n",
       "    <tr>\n",
       "      <th>Sodium (% Daily Value)</th>\n",
       "      <td>260.0</td>\n",
       "      <td>20.676923</td>\n",
       "      <td>24.034954</td>\n",
       "      <td>0.0</td>\n",
       "      <td>4.750</td>\n",
       "      <td>8.0</td>\n",
       "      <td>36.25</td>\n",
       "      <td>150.0</td>\n",
       "    </tr>\n",
       "    <tr>\n",
       "      <th>Carbohydrates</th>\n",
       "      <td>260.0</td>\n",
       "      <td>47.346154</td>\n",
       "      <td>28.252232</td>\n",
       "      <td>0.0</td>\n",
       "      <td>30.000</td>\n",
       "      <td>44.0</td>\n",
       "      <td>60.00</td>\n",
       "      <td>141.0</td>\n",
       "    </tr>\n",
       "    <tr>\n",
       "      <th>Carbohydrates (% Daily Value)</th>\n",
       "      <td>260.0</td>\n",
       "      <td>15.780769</td>\n",
       "      <td>9.419544</td>\n",
       "      <td>0.0</td>\n",
       "      <td>10.000</td>\n",
       "      <td>15.0</td>\n",
       "      <td>20.00</td>\n",
       "      <td>47.0</td>\n",
       "    </tr>\n",
       "    <tr>\n",
       "      <th>Dietary Fiber</th>\n",
       "      <td>260.0</td>\n",
       "      <td>1.630769</td>\n",
       "      <td>1.567717</td>\n",
       "      <td>0.0</td>\n",
       "      <td>0.000</td>\n",
       "      <td>1.0</td>\n",
       "      <td>3.00</td>\n",
       "      <td>7.0</td>\n",
       "    </tr>\n",
       "    <tr>\n",
       "      <th>Dietary Fiber (% Daily Value)</th>\n",
       "      <td>260.0</td>\n",
       "      <td>6.530769</td>\n",
       "      <td>6.307057</td>\n",
       "      <td>0.0</td>\n",
       "      <td>0.000</td>\n",
       "      <td>5.0</td>\n",
       "      <td>10.00</td>\n",
       "      <td>28.0</td>\n",
       "    </tr>\n",
       "    <tr>\n",
       "      <th>Sugars</th>\n",
       "      <td>260.0</td>\n",
       "      <td>29.423077</td>\n",
       "      <td>28.679797</td>\n",
       "      <td>0.0</td>\n",
       "      <td>5.750</td>\n",
       "      <td>17.5</td>\n",
       "      <td>48.00</td>\n",
       "      <td>128.0</td>\n",
       "    </tr>\n",
       "    <tr>\n",
       "      <th>Protein</th>\n",
       "      <td>260.0</td>\n",
       "      <td>13.338462</td>\n",
       "      <td>11.426146</td>\n",
       "      <td>0.0</td>\n",
       "      <td>4.000</td>\n",
       "      <td>12.0</td>\n",
       "      <td>19.00</td>\n",
       "      <td>87.0</td>\n",
       "    </tr>\n",
       "    <tr>\n",
       "      <th>Vitamin A (% Daily Value)</th>\n",
       "      <td>260.0</td>\n",
       "      <td>13.426923</td>\n",
       "      <td>24.366381</td>\n",
       "      <td>0.0</td>\n",
       "      <td>2.000</td>\n",
       "      <td>8.0</td>\n",
       "      <td>15.00</td>\n",
       "      <td>170.0</td>\n",
       "    </tr>\n",
       "    <tr>\n",
       "      <th>Vitamin C (% Daily Value)</th>\n",
       "      <td>260.0</td>\n",
       "      <td>8.534615</td>\n",
       "      <td>26.345542</td>\n",
       "      <td>0.0</td>\n",
       "      <td>0.000</td>\n",
       "      <td>0.0</td>\n",
       "      <td>4.00</td>\n",
       "      <td>240.0</td>\n",
       "    </tr>\n",
       "    <tr>\n",
       "      <th>Calcium (% Daily Value)</th>\n",
       "      <td>260.0</td>\n",
       "      <td>20.973077</td>\n",
       "      <td>17.019953</td>\n",
       "      <td>0.0</td>\n",
       "      <td>6.000</td>\n",
       "      <td>20.0</td>\n",
       "      <td>30.00</td>\n",
       "      <td>70.0</td>\n",
       "    </tr>\n",
       "    <tr>\n",
       "      <th>Iron (% Daily Value)</th>\n",
       "      <td>260.0</td>\n",
       "      <td>7.734615</td>\n",
       "      <td>8.723263</td>\n",
       "      <td>0.0</td>\n",
       "      <td>0.000</td>\n",
       "      <td>4.0</td>\n",
       "      <td>15.00</td>\n",
       "      <td>40.0</td>\n",
       "    </tr>\n",
       "  </tbody>\n",
       "</table>\n",
       "</div>"
      ],
      "text/plain": [
       "                               count        mean  ...     75%     max\n",
       "Calories                       260.0  368.269231  ...  500.00  1880.0\n",
       "Calories from Fat              260.0  127.096154  ...  200.00  1060.0\n",
       "Total Fat                      260.0   14.165385  ...   22.25   118.0\n",
       "Total Fat (% Daily Value)      260.0   21.815385  ...   35.00   182.0\n",
       "Saturated Fat                  260.0    6.007692  ...   10.00    20.0\n",
       "Saturated Fat (% Daily Value)  260.0   29.965385  ...   48.00   102.0\n",
       "Trans Fat                      260.0    0.203846  ...    0.00     2.5\n",
       "Cholesterol                    260.0   54.942308  ...   65.00   575.0\n",
       "Cholesterol (% Daily Value)    260.0   18.392308  ...   21.25   192.0\n",
       "Sodium                         260.0  495.750000  ...  865.00  3600.0\n",
       "Sodium (% Daily Value)         260.0   20.676923  ...   36.25   150.0\n",
       "Carbohydrates                  260.0   47.346154  ...   60.00   141.0\n",
       "Carbohydrates (% Daily Value)  260.0   15.780769  ...   20.00    47.0\n",
       "Dietary Fiber                  260.0    1.630769  ...    3.00     7.0\n",
       "Dietary Fiber (% Daily Value)  260.0    6.530769  ...   10.00    28.0\n",
       "Sugars                         260.0   29.423077  ...   48.00   128.0\n",
       "Protein                        260.0   13.338462  ...   19.00    87.0\n",
       "Vitamin A (% Daily Value)      260.0   13.426923  ...   15.00   170.0\n",
       "Vitamin C (% Daily Value)      260.0    8.534615  ...    4.00   240.0\n",
       "Calcium (% Daily Value)        260.0   20.973077  ...   30.00    70.0\n",
       "Iron (% Daily Value)           260.0    7.734615  ...   15.00    40.0\n",
       "\n",
       "[21 rows x 8 columns]"
      ]
     },
     "execution_count": 22,
     "metadata": {
      "tags": []
     },
     "output_type": "execute_result"
    }
   ],
   "source": [
    "df.describe().transpose()"
   ]
  },
  {
   "cell_type": "code",
   "execution_count": null,
   "metadata": {
    "colab": {
     "base_uri": "https://localhost:8080/",
     "height": 35
    },
    "id": "XWR9eEgFmngq",
    "outputId": "0c299ab3-f76d-40a2-810c-3838ba26e2c8"
   },
   "outputs": [
    {
     "data": {
      "text/plain": [
       "(260, 24)"
      ]
     },
     "execution_count": 23,
     "metadata": {
      "tags": []
     },
     "output_type": "execute_result"
    }
   ],
   "source": [
    "df.shape"
   ]
  },
  {
   "cell_type": "code",
   "execution_count": null,
   "metadata": {
    "collapsed": true,
    "id": "0YzBkdz7m6OH"
   },
   "outputs": [],
   "source": [
    "#X = df[['Total Fat','Cholesterol','Sodium']]\n",
    "X = df[['Total Fat (% Daily Value)','Saturated Fat (% Daily Value)','Cholesterol (% Daily Value)','Sodium (% Daily Value)','Carbohydrates (% Daily Value)','Dietary Fiber (% Daily Value)','Vitamin A (% Daily Value)','Vitamin C (% Daily Value)','Calcium (% Daily Value)','Iron (% Daily Value)']]\n",
    "y = df['Category']"
   ]
  },
  {
   "cell_type": "code",
   "execution_count": null,
   "metadata": {
    "collapsed": true,
    "id": "295uec44nbBZ"
   },
   "outputs": [],
   "source": [
    "from sklearn.model_selection import train_test_split\n",
    "X_train, X_test, y_train, y_test = train_test_split(X, y, test_size=0.20, random_state=4)"
   ]
  },
  {
   "cell_type": "code",
   "execution_count": null,
   "metadata": {
    "colab": {
     "base_uri": "https://localhost:8080/",
     "height": 35
    },
    "id": "RawP9JGBn3zy",
    "outputId": "d181d771-ae21-4483-f862-61baec470d2a"
   },
   "outputs": [
    {
     "data": {
      "text/plain": [
       "StandardScaler(copy=True, with_mean=True, with_std=True)"
      ]
     },
     "execution_count": 26,
     "metadata": {
      "tags": []
     },
     "output_type": "execute_result"
    }
   ],
   "source": [
    "from sklearn.preprocessing import StandardScaler\n",
    "scaler = StandardScaler()\n",
    "scaler.fit(X_train)\n"
   ]
  },
  {
   "cell_type": "code",
   "execution_count": null,
   "metadata": {
    "collapsed": true,
    "id": "6zwzL3kcoiOL"
   },
   "outputs": [],
   "source": [
    "X_train = scaler.transform(X_train)\n",
    "X_test = scaler.transform(X_test)"
   ]
  },
  {
   "cell_type": "code",
   "execution_count": null,
   "metadata": {
    "colab": {
     "base_uri": "https://localhost:8080/",
     "height": 211
    },
    "id": "wEk6MMXrosU2",
    "outputId": "a2ad702e-0724-4a5c-acf1-935af12dc31e"
   },
   "outputs": [
    {
     "name": "stderr",
     "output_type": "stream",
     "text": [
      "/usr/local/lib/python3.6/dist-packages/sklearn/neural_network/_multilayer_perceptron.py:571: ConvergenceWarning: Stochastic Optimizer: Maximum iterations (700) reached and the optimization hasn't converged yet.\n",
      "  % self.max_iter, ConvergenceWarning)\n"
     ]
    },
    {
     "data": {
      "text/plain": [
       "MLPClassifier(activation='relu', alpha=0.0001, batch_size='auto', beta_1=0.9,\n",
       "              beta_2=0.999, early_stopping=False, epsilon=1e-08,\n",
       "              hidden_layer_sizes=(15, 7), learning_rate='constant',\n",
       "              learning_rate_init=0.001, max_fun=15000, max_iter=700,\n",
       "              momentum=0.9, n_iter_no_change=10, nesterovs_momentum=True,\n",
       "              power_t=0.5, random_state=None, shuffle=True, solver='adam',\n",
       "              tol=0.0001, validation_fraction=0.1, verbose=False,\n",
       "              warm_start=False)"
      ]
     },
     "execution_count": 28,
     "metadata": {
      "tags": []
     },
     "output_type": "execute_result"
    }
   ],
   "source": [
    "from sklearn.neural_network import MLPClassifier\n",
    "\n",
    "mlp = MLPClassifier(hidden_layer_sizes=(15,7), max_iter=700)\n",
    "mlp.fit(X_train,y_train)"
   ]
  },
  {
   "cell_type": "code",
   "execution_count": null,
   "metadata": {
    "colab": {
     "base_uri": "https://localhost:8080/",
     "height": 295
    },
    "id": "n0VEPdfxr82i",
    "outputId": "c60d9be7-f2c4-4fb6-b6e3-c034afd76907"
   },
   "outputs": [
    {
     "name": "stdout",
     "output_type": "stream",
     "text": [
      "                    precision    recall  f1-score   support\n",
      "\n",
      "       Beef & Pork       1.00      0.64      0.78        11\n",
      "         Beverages       0.65      0.50      0.56        22\n",
      "         Breakfast       0.88      0.91      0.90        33\n",
      "    Chicken & Fish       0.75      0.95      0.84        22\n",
      "      Coffee & Tea       0.78      0.92      0.84        79\n",
      "          Desserts       1.00      0.14      0.25         7\n",
      "            Salads       1.00      1.00      1.00         4\n",
      "Smoothies & Shakes       0.94      0.85      0.89        20\n",
      "    Snacks & Sides       0.60      0.30      0.40        10\n",
      "\n",
      "          accuracy                           0.80       208\n",
      "         macro avg       0.84      0.69      0.72       208\n",
      "      weighted avg       0.81      0.80      0.79       208\n",
      "\n"
     ]
    }
   ],
   "source": [
    "predictions = mlp.predict(X_train)\n",
    "from sklearn.metrics import classification_report, confusion_matrix\n",
    "import itertools\n",
    "cnf_matrix = confusion_matrix(y_train, predictions)\n",
    "print(classification_report(y_train,predictions))"
   ]
  },
  {
   "cell_type": "code",
   "execution_count": null,
   "metadata": {
    "collapsed": true,
    "id": "aj4wDnYR-avB"
   },
   "outputs": [],
   "source": [
    "def plot_confusion_matrix(cm, classes,\n",
    "                          normalize=False,\n",
    "                          title='Confusion matrix',\n",
    "                          cmap=plt.cm.Blues):\n",
    "    \"\"\"\n",
    "    This function prints and plots the confusion matrix.\n",
    "    Normalization can be applied by setting `normalize=True`.\n",
    "    \"\"\"\n",
    "    if normalize:\n",
    "        cm = cm.astype('float') / cm.sum(axis=1)[:, np.newaxis]\n",
    "        print(\"Normalized confusion matrix\")\n",
    "    else:\n",
    "        print('Confusion matrix, without normalization')\n",
    "\n",
    "    print(cm)\n",
    "\n",
    "    plt.imshow(cm, interpolation='nearest', cmap=cmap)\n",
    "    plt.title(title)\n",
    "    plt.colorbar()\n",
    "    tick_marks = np.arange(len(classes))\n",
    "    plt.xticks(tick_marks, classes, rotation=45)\n",
    "    plt.yticks(tick_marks, classes)\n",
    "\n",
    "    fmt = '.2f' if normalize else 'd'\n",
    "    thresh = cm.max() / 2.\n",
    "    for i, j in itertools.product(range(cm.shape[0]), range(cm.shape[1])):\n",
    "        plt.text(j, i, format(cm[i, j], fmt),\n",
    "                 horizontalalignment=\"center\",\n",
    "                 color=\"white\" if cm[i, j] > thresh else \"black\")\n",
    "\n",
    "    plt.tight_layout()\n",
    "    plt.ylabel('True label')\n",
    "    plt.xlabel('Predicted label')"
   ]
  },
  {
   "cell_type": "code",
   "execution_count": null,
   "metadata": {
    "colab": {
     "base_uri": "https://localhost:8080/",
     "height": 485
    },
    "id": "PEvQhElY332g",
    "outputId": "80c4717c-2b07-4449-848f-6299d9d6546d"
   },
   "outputs": [
    {
     "name": "stdout",
     "output_type": "stream",
     "text": [
      "Confusion matrix, without normalization\n",
      "[[ 7  0  4  0  0  0  0  0  0]\n",
      " [ 0 11  0  0 11  0  0  0  0]\n",
      " [ 0  0 30  2  0  0  0  0  1]\n",
      " [ 0  0  0 21  0  0  0  0  1]\n",
      " [ 0  6  0  0 73  0  0  0  0]\n",
      " [ 0  0  0  0  6  1  0  0  0]\n",
      " [ 0  0  0  0  0  0  4  0  0]\n",
      " [ 0  0  0  0  3  0  0 17  0]\n",
      " [ 0  0  0  5  1  0  0  1  3]]\n"
     ]
    },
    {
     "data": {
      "image/png": "[encoded data removed]",
      "text/plain": [
       "<Figure size 432x288 with 2 Axes>"
      ]
     },
     "metadata": {
      "needs_background": "light",
      "tags": []
     },
     "output_type": "display_data"
    }
   ],
   "source": [
    "plt.figure()\n",
    "plot_confusion_matrix(cnf_matrix, classes=['Beef & Pork',' Beverages','Breakfast','Chicken & Fish','Coffee & Tea','Desserts','Salads ','Smoothies & Shakes','Snacks & Sides '],normalize= False,  title='Confusion matrix')"
   ]
  },
  {
   "cell_type": "code",
   "execution_count": null,
   "metadata": {
    "colab": {
     "base_uri": "https://localhost:8080/",
     "height": 921
    },
    "id": "b5HZmDOcovdL",
    "outputId": "0c7cc7db-80ef-4747-9f0a-8f7a23b3628a"
   },
   "outputs": [
    {
     "name": "stdout",
     "output_type": "stream",
     "text": [
      "[[ 1  0  2  1  0  0  0  0]\n",
      " [ 0  2  0  0  3  0  0  0]\n",
      " [ 0  0  8  1  0  0  0  0]\n",
      " [ 0  0  1  4  0  0  0  0]\n",
      " [ 0  1  0  0 15  0  0  0]\n",
      " [ 0  0  0  0  0  2  0  0]\n",
      " [ 0  0  0  0  2  0  6  0]\n",
      " [ 0  2  0  1  0  0  0  0]]\n",
      "                    precision    recall  f1-score   support\n",
      "\n",
      "       Beef & Pork       1.00      0.25      0.40         4\n",
      "         Beverages       0.40      0.40      0.40         5\n",
      "         Breakfast       0.73      0.89      0.80         9\n",
      "    Chicken & Fish       0.57      0.80      0.67         5\n",
      "      Coffee & Tea       0.75      0.94      0.83        16\n",
      "            Salads       1.00      1.00      1.00         2\n",
      "Smoothies & Shakes       1.00      0.75      0.86         8\n",
      "    Snacks & Sides       0.00      0.00      0.00         3\n",
      "\n",
      "          accuracy                           0.73        52\n",
      "         macro avg       0.68      0.63      0.62        52\n",
      "      weighted avg       0.72      0.73      0.70        52\n",
      "\n",
      "Confusion matrix, without normalization\n",
      "[[ 1  0  2  1  0  0  0  0]\n",
      " [ 0  2  0  0  3  0  0  0]\n",
      " [ 0  0  8  1  0  0  0  0]\n",
      " [ 0  0  1  4  0  0  0  0]\n",
      " [ 0  1  0  0 15  0  0  0]\n",
      " [ 0  0  0  0  0  2  0  0]\n",
      " [ 0  0  0  0  2  0  6  0]\n",
      " [ 0  2  0  1  0  0  0  0]]\n"
     ]
    },
    {
     "name": "stderr",
     "output_type": "stream",
     "text": [
      "/usr/local/lib/python3.6/dist-packages/sklearn/metrics/_classification.py:1272: UndefinedMetricWarning: Precision and F-score are ill-defined and being set to 0.0 in labels with no predicted samples. Use `zero_division` parameter to control this behavior.\n",
      "  _warn_prf(average, modifier, msg_start, len(result))\n"
     ]
    },
    {
     "data": {
      "image/png": "[encoded data removed]",
      "text/plain": [
       "<Figure size 432x288 with 2 Axes>"
      ]
     },
     "metadata": {
      "needs_background": "light",
      "tags": []
     },
     "output_type": "display_data"
    }
   ],
   "source": [
    "predictions= mlp.predict(X_test)\n",
    "from sklearn.metrics import classification_report,confusion_matrix\n",
    "cnf_matrix = confusion_matrix(y_test, predictions)\n",
    "print(confusion_matrix(y_test,predictions))\n",
    "print(classification_report(y_test,predictions))\n",
    "plt.figure()\n",
    "plot_confusion_matrix(cnf_matrix, classes=['Beef & Pork',' Beverages','Breakfast','Chicken & Fish','Coffee & Tea','Desserts','Salads ','Smoothies & Shakes','Snacks & Sides '],normalize= False,  title='Confusion matrix')"
   ]
  },
  {
   "cell_type": "code",
   "execution_count": null,
   "metadata": {
    "collapsed": true,
    "id": "av_gUtI6o_62"
   },
   "outputs": [],
   "source": []
  },
  {
   "cell_type": "code",
   "execution_count": null,
   "metadata": {
    "collapsed": true,
    "id": "RfjSvZ-ApMhP"
   },
   "outputs": [],
   "source": []
  }
 ],
 "metadata": {
  "colab": {
   "name": "ANN_challage2.ipynb",
   "provenance": []
  },
  "kernelspec": {
   "display_name": "Python 3",
   "language": "python",
   "name": "python3"
  },
  "language_info": {
   "codemirror_mode": {
    "name": "ipython",
    "version": 3
   },
   "file_extension": ".py",
   "mimetype": "text/x-python",
   "name": "python",
   "nbconvert_exporter": "python",
   "pygments_lexer": "ipython3",
   "version": "3.6.1"
  }
 },
 "nbformat": 4,
 "nbformat_minor": 1
}
